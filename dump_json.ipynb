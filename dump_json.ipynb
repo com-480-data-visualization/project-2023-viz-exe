{
 "cells": [
  {
   "cell_type": "code",
   "execution_count": 64,
   "metadata": {},
   "outputs": [],
   "source": [
    "import pandas as pd\n",
    "import json"
   ]
  },
  {
   "cell_type": "code",
   "execution_count": 65,
   "metadata": {},
   "outputs": [],
   "source": [
    "main_df = pd.read_csv(\"data/db_main.csv\")\n",
    "other_df = pd.read_csv(\"data/pizza_indexes.csv\")\n"
   ]
  },
  {
   "cell_type": "code",
   "execution_count": 66,
   "metadata": {},
   "outputs": [
    {
     "data": {
      "text/html": [
       "<div>\n",
       "<style scoped>\n",
       "    .dataframe tbody tr th:only-of-type {\n",
       "        vertical-align: middle;\n",
       "    }\n",
       "\n",
       "    .dataframe tbody tr th {\n",
       "        vertical-align: top;\n",
       "    }\n",
       "\n",
       "    .dataframe thead th {\n",
       "        text-align: right;\n",
       "    }\n",
       "</style>\n",
       "<table border=\"1\" class=\"dataframe\">\n",
       "  <thead>\n",
       "    <tr style=\"text-align: right;\">\n",
       "      <th></th>\n",
       "      <th>Rank</th>\n",
       "      <th>State</th>\n",
       "      <th>Initials</th>\n",
       "      <th>Index</th>\n",
       "      <th>Grocery</th>\n",
       "      <th>Housing</th>\n",
       "      <th>Utilities</th>\n",
       "      <th>Transportation</th>\n",
       "      <th>Health</th>\n",
       "      <th>Misc.</th>\n",
       "      <th>mean_price</th>\n",
       "      <th>pizza_index_NY</th>\n",
       "      <th>diff</th>\n",
       "    </tr>\n",
       "  </thead>\n",
       "  <tbody>\n",
       "    <tr>\n",
       "      <th>15</th>\n",
       "      <td>22</td>\n",
       "      <td>Kentucky</td>\n",
       "      <td>KY</td>\n",
       "      <td>81.529210</td>\n",
       "      <td>65.489528</td>\n",
       "      <td>54.142680</td>\n",
       "      <td>74.314855</td>\n",
       "      <td>73.754517</td>\n",
       "      <td>55.333398</td>\n",
       "      <td>74.735109</td>\n",
       "      <td>13.380000</td>\n",
       "      <td>92.867104</td>\n",
       "      <td>11.337894</td>\n",
       "    </tr>\n",
       "    <tr>\n",
       "      <th>4</th>\n",
       "      <td>34</td>\n",
       "      <td>Colorado</td>\n",
       "      <td>CO</td>\n",
       "      <td>89.862543</td>\n",
       "      <td>73.573027</td>\n",
       "      <td>92.487394</td>\n",
       "      <td>70.330564</td>\n",
       "      <td>78.513923</td>\n",
       "      <td>74.113437</td>\n",
       "      <td>78.668326</td>\n",
       "      <td>10.559167</td>\n",
       "      <td>73.288433</td>\n",
       "      <td>-16.574110</td>\n",
       "    </tr>\n",
       "    <tr>\n",
       "      <th>9</th>\n",
       "      <td>46</td>\n",
       "      <td>Hawaii</td>\n",
       "      <td>HI</td>\n",
       "      <td>101.804124</td>\n",
       "      <td>145.009654</td>\n",
       "      <td>172.384818</td>\n",
       "      <td>147.633471</td>\n",
       "      <td>94.894737</td>\n",
       "      <td>102.678730</td>\n",
       "      <td>112.211934</td>\n",
       "      <td>12.712500</td>\n",
       "      <td>88.234160</td>\n",
       "      <td>-13.569964</td>\n",
       "    </tr>\n",
       "    <tr>\n",
       "      <th>42</th>\n",
       "      <td>30</td>\n",
       "      <td>Utah</td>\n",
       "      <td>UT</td>\n",
       "      <td>88.316151</td>\n",
       "      <td>76.024728</td>\n",
       "      <td>81.866948</td>\n",
       "      <td>70.030763</td>\n",
       "      <td>81.942821</td>\n",
       "      <td>69.727271</td>\n",
       "      <td>78.073299</td>\n",
       "      <td>15.084706</td>\n",
       "      <td>104.699025</td>\n",
       "      <td>16.382874</td>\n",
       "    </tr>\n",
       "    <tr>\n",
       "      <th>46</th>\n",
       "      <td>9</td>\n",
       "      <td>West Virginia</td>\n",
       "      <td>WV</td>\n",
       "      <td>77.319588</td>\n",
       "      <td>65.562228</td>\n",
       "      <td>45.700925</td>\n",
       "      <td>62.705920</td>\n",
       "      <td>73.865448</td>\n",
       "      <td>67.621426</td>\n",
       "      <td>63.303752</td>\n",
       "      <td>10.507397</td>\n",
       "      <td>72.929115</td>\n",
       "      <td>-4.390473</td>\n",
       "    </tr>\n",
       "  </tbody>\n",
       "</table>\n",
       "</div>"
      ],
      "text/plain": [
       "    Rank          State Initials       Index     Grocery     Housing  \\\n",
       "15    22       Kentucky       KY   81.529210   65.489528   54.142680   \n",
       "4     34       Colorado       CO   89.862543   73.573027   92.487394   \n",
       "9     46         Hawaii       HI  101.804124  145.009654  172.384818   \n",
       "42    30           Utah       UT   88.316151   76.024728   81.866948   \n",
       "46     9  West Virginia       WV   77.319588   65.562228   45.700925   \n",
       "\n",
       "     Utilities  Transportation      Health       Misc.  mean_price  \\\n",
       "15   74.314855       73.754517   55.333398   74.735109   13.380000   \n",
       "4    70.330564       78.513923   74.113437   78.668326   10.559167   \n",
       "9   147.633471       94.894737  102.678730  112.211934   12.712500   \n",
       "42   70.030763       81.942821   69.727271   78.073299   15.084706   \n",
       "46   62.705920       73.865448   67.621426   63.303752   10.507397   \n",
       "\n",
       "    pizza_index_NY       diff  \n",
       "15       92.867104  11.337894  \n",
       "4        73.288433 -16.574110  \n",
       "9        88.234160 -13.569964  \n",
       "42      104.699025  16.382874  \n",
       "46       72.929115  -4.390473  "
      ]
     },
     "execution_count": 66,
     "metadata": {},
     "output_type": "execute_result"
    }
   ],
   "source": [
    "other_df.sample(5)"
   ]
  },
  {
   "cell_type": "code",
   "execution_count": 67,
   "metadata": {},
   "outputs": [],
   "source": [
    "other_df[\"tuple\"] = other_df.apply(lambda x : (x.Index, x.pizza_index_NY), axis=1)"
   ]
  },
  {
   "cell_type": "code",
   "execution_count": 68,
   "metadata": {},
   "outputs": [],
   "source": [
    "zipped = dict(zip(other_df[\"State\"], other_df[\"tuple\"].apply(tuple)))"
   ]
  },
  {
   "cell_type": "code",
   "execution_count": 69,
   "metadata": {},
   "outputs": [],
   "source": [
    "def write_json_file(to_add, new_feature_name):\n",
    "    f = open(\"data/map-data.json\", \"r\")\n",
    "    y = json.load(f)\n",
    "    for elem in y[\"features\"]:\n",
    "        elem_to_add = elem[\"properties\"][\"name\"]\n",
    "        if elem_to_add != \"Puerto Rico\":\n",
    "            elem[\"properties\"][new_feature_name] = to_add[elem_to_add]\n",
    "    f.close()\n",
    "    f = open(\"data/map-data.json\", \"w\")\n",
    "    json.dump(y, f)\n",
    "    f.close()"
   ]
  },
  {
   "cell_type": "code",
   "execution_count": 70,
   "metadata": {},
   "outputs": [],
   "source": [
    "write_json_file(zipped, \"indexes\")"
   ]
  },
  {
   "cell_type": "code",
   "execution_count": 10,
   "metadata": {},
   "outputs": [],
   "source": [
    "write_json_file(restos_num_by_state, \"num_of_restos\")\n",
    "write_json_file(restos_by_pop, \"restos_by_pop\")\n",
    "write_json_file(restos_coords, \"restos_coords\")\n"
   ]
  },
  {
   "cell_type": "code",
   "execution_count": 91,
   "metadata": {},
   "outputs": [
    {
     "data": {
      "text/html": [
       "<div>\n",
       "<style scoped>\n",
       "    .dataframe tbody tr th:only-of-type {\n",
       "        vertical-align: middle;\n",
       "    }\n",
       "\n",
       "    .dataframe tbody tr th {\n",
       "        vertical-align: top;\n",
       "    }\n",
       "\n",
       "    .dataframe thead th {\n",
       "        text-align: right;\n",
       "    }\n",
       "</style>\n",
       "<table border=\"1\" class=\"dataframe\">\n",
       "  <thead>\n",
       "    <tr style=\"text-align: right;\">\n",
       "      <th></th>\n",
       "      <th>state</th>\n",
       "      <th>count</th>\n",
       "      <th>pop</th>\n",
       "      <th>lat</th>\n",
       "      <th>long</th>\n",
       "      <th>restos_by_pop</th>\n",
       "    </tr>\n",
       "  </thead>\n",
       "  <tbody>\n",
       "    <tr>\n",
       "      <th>32</th>\n",
       "      <td>New York</td>\n",
       "      <td>374</td>\n",
       "      <td>19453561</td>\n",
       "      <td>42.652843</td>\n",
       "      <td>-73.757874</td>\n",
       "      <td>19.225272</td>\n",
       "    </tr>\n",
       "  </tbody>\n",
       "</table>\n",
       "</div>"
      ],
      "text/plain": [
       "       state  count       pop        lat       long  restos_by_pop\n",
       "32  New York    374  19453561  42.652843 -73.757874      19.225272"
      ]
     },
     "execution_count": 91,
     "metadata": {},
     "output_type": "execute_result"
    }
   ],
   "source": [
    "new.loc[new.state==\"New York\"]"
   ]
  },
  {
   "cell_type": "code",
   "execution_count": null,
   "metadata": {},
   "outputs": [],
   "source": []
  }
 ],
 "metadata": {
  "kernelspec": {
   "display_name": "base",
   "language": "python",
   "name": "python3"
  },
  "language_info": {
   "codemirror_mode": {
    "name": "ipython",
    "version": 3
   },
   "file_extension": ".py",
   "mimetype": "text/x-python",
   "name": "python",
   "nbconvert_exporter": "python",
   "pygments_lexer": "ipython3",
   "version": "3.9.12"
  },
  "orig_nbformat": 4
 },
 "nbformat": 4,
 "nbformat_minor": 2
}
